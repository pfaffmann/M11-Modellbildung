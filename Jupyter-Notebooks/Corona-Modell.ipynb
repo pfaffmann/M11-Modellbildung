{
 "cells": [
  {
   "cell_type": "markdown",
   "metadata": {},
   "source": [
    "# COVID-19 Modellierung "
   ]
  },
  {
   "cell_type": "markdown",
   "metadata": {},
   "source": [
    "## Daten des Robert-Koch-Institutes\n",
    "Alle deutschlandweit registrierten Covid-19 Fälle werden vom RKI erfasst und unter folgendem Link veröffentlicht: https://corona.rki.de<br>\n",
    "Die tagesaktuellen Daten können als CSV oder über die ArcGIS API bezogen werden: https://www.arcgis.com/home/item.html?id=f10774f1c63e40168479a1feb6c7ca74"
   ]
  },
  {
   "cell_type": "markdown",
   "metadata": {},
   "source": [
    "### Octave-Daten für ganz Deutschland"
   ]
  },
  {
   "cell_type": "code",
   "execution_count": null,
   "metadata": {},
   "outputs": [],
   "source": [
    "## Copyright (C) 2020 Christoph Pfaffmann\n",
    "##\n",
    "## This program is free software: you can redistribute it and/or modify it\n",
    "## under the terms of the GNU General Public License as published by\n",
    "## the Free Software Foundation, either version 3 of the License, or\n",
    "## (at your option) any later version.\n",
    "##\n",
    "## This program is distributed in the hope that it will be useful, but\n",
    "## WITHOUT ANY WARRANTY; without even the implied warranty of\n",
    "## MERCHANTABILITY or FITNESS FOR A PARTICULAR PURPOSE. See the\n",
    "## GNU General Public License for more details.\n",
    "##\n",
    "## You should have received a copy of the GNU General Public License\n",
    "## along with this program. If not, see\n",
    "## https://www.gnu.org/licenses/.\n",
    "## Author: Christoph Pfaffmann\n",
    "## Created: 1.9.2020\n",
    "function y = coronaData()\n",
    "  cases=[2, 4, 7, 8, 12, 13, 14, 16, 17, 18, 20, 27, 51, 98, 120, 156, 197, 282, 436, 620, 806, 947, 1048, 1395, 1996, 2753, 3745, 5194, 6498, 7477, 9525, 12569, 16181, 20243, 24294, 27650, 29917, 33643, 38528, 44215, 50127, 56122, 60858, 63946, 68069, 74132, 80409, 86971, 93155, 97493, 100049, 103723, 108922, 114201, 119114, 122466, 125358, 127225, 128823, 131288, 134613, 138030, 141078, 143186, 144563, 146282, 148473, 150966, 153050, 154952, 156226, 156930, 158046, 159516, 160952, 162409, 163324, 163945, 164372, 165094, 166183, 167394, 168591, 169575, 170253, 170595, 171278, 172119, 173022, 173826, 174538, 175001, 175316, 175860, 176588, 177418, 177836, 178363, 178702, 178927, 179338, 179953, 180599, 181122, 181569, 181943, 182121, 182259, 182561, 183055, 183580, 184022, 184305, 184469, 184766, 185191, 185711, 185988, 186335, 186634, 186806, 187065, 187604, 188580, 189215, 190108, 190635, 190891, 191375, 191916, 192417, 192981, 193553, 193885, 194085, 194502, 194961, 195444, 195914, 196340, 196633, 196776, 197091, 197480, 197930, 198356, 198781, 199058, 199189, 199516, 199972, 200509, 201065, 201589, 202016, 202202, 202655, 203173, 203868, 204565, 205369, 205914, 206125, 206646, 207393, 208301, 209154, 210072, 210634, 210935, 211728, 212669, 213780, 214945, 215945, 216650, 216968, 218059, 219246, 220785, 222272, 223636, 224385, 224878, 226425, 227951, 229694, 231308, 232962, 233864, 234423, 235840, 237303, 238881, 240404, 241721, 242500, 242966, 243596];\n",
    "  deads=[0, 0, 0, 0, 0, 0, 0, 0, 0, 0, 0, 0, 0, 0, 0, 0, 0, 0, 2, 3, 7, 11, 12, 19, 23, 33, 46, 62, 82, 97, 133, 177, 241, 305, 401, 495, 571, 704, 869, 1084, 1345, 1608, 1856, 2019, 2282, 2654, 3031, 3445, 3836, 4081, 4263, 4552, 4886, 5222, 5545, 5753, 5955, 6124, 6287, 6505, 6731, 6920, 7093, 7214, 7332, 7476, 7612, 7739, 7855, 7938, 8017, 8045, 8119, 8198, 8256, 8324, 8370, 8404, 8419, 8459, 8502, 8541, 8589, 8631, 8654, 8668, 8691, 8721, 8746, 8766, 8796, 8814, 8822, 8843, 8870, 8892, 8899, 8913, 8923, 8928, 8941, 8956, 8967, 8975, 8982, 8986, 8988, 8993, 8999, 9010, 9017, 9023, 9027, 9031, 9034, 9035, 9044, 9045, 9055, 9056, 9062, 9066, 9076, 9081, 9083, 9089, 9092, 9095, 9097, 9104, 9106, 9111, 9116, 9118, 9118, 9122, 9123, 9127, 9131, 9137, 9138, 9141, 9145, 9149, 9155, 9160, 9163, 9163, 9163, 9168, 9170, 9176, 9181, 9187, 9187, 9191, 9195, 9199, 9208, 9210, 9219, 9221, 9221, 9228, 9231, 9234, 9238, 9246, 9247, 9248, 9253, 9256, 9257, 9262, 9264, 9266, 9268, 9270, 9272, 9279, 9280, 9281, 9283, 9286, 9288, 9294, 9294, 9295, 9296, 9296, 9296, 9298, 9299, 9300, 9301, 9301, 9302, 9302, 9302];\n",
    "  recovered=[2, 4, 7, 8, 12, 13, 14, 16, 17, 18, 20, 27, 51, 98, 120, 156, 197, 282, 434, 617, 799, 936, 1036, 1376, 1973, 2720, 3699, 5132, 6416, 7380, 9392, 12392, 15940, 19938, 23892, 27154, 29345, 32938, 37658, 43130, 48781, 54513, 59001, 61926, 65785, 71476, 77376, 83524, 89317, 93410, 95784, 99169, 104034, 108977, 113567, 116711, 119401, 121099, 122534, 124781, 127880, 131108, 133983, 135970, 137229, 138804, 140859, 143225, 145193, 147012, 148207, 148883, 149924, 151315, 152693, 154082, 154951, 155538, 155950, 156632, 157678, 158850, 159999, 160941, 161596, 161924, 162584, 163395, 164273, 165057, 165739, 166184, 166491, 167014, 167715, 168523, 168934, 169447, 169776, 169996, 170394, 170994, 171629, 172144, 172584, 172954, 173130, 173263, 173559, 174042, 174560, 174996, 175275, 175435, 175729, 176153, 176664, 176940, 177277, 177575, 177741, 177996, 178525, 179496, 180129, 181016, 181540, 181793, 182275, 182809, 183308, 183867, 184434, 184764, 184964, 185377, 185835, 186314, 186780, 187200, 187492, 187632, 187943, 188328, 188772, 189193, 189615, 189892, 190023, 190345, 190799, 191330, 191881, 192399, 192826, 193008, 193457, 193971, 194657, 195352, 196147, 196689, 196900, 197414, 198157, 199060, 199909, 200819, 201378, 201678, 202464, 203398, 204305, 205261, 206088, 206655, 206897, 207785, 208728, 209927, 211087, 212165, 212781, 213148, 214351, 215543, 216131, 216612, 216989, 217117, 217191, 217348, 217449, 217526, 217570, 217597, 217610, 217612, 217618];\n",
    "  y=[cases;deads;recovered];\n",
    "endfunction"
   ]
  },
  {
   "cell_type": "markdown",
   "metadata": {},
   "source": [
    "### Octave-Daten für die einzelnen Bundesländer Deutschlands"
   ]
  },
  {
   "cell_type": "markdown",
   "metadata": {},
   "source": [
    "## Modellierungskreislauf\n",
    "Der mathematische Modellierungskreislauf besteht aus vier Komponenten:\n",
    "<img src=\"https://haukemorisse.de/blog/wp-content/uploads/2018/02/Modellierungskreislauf.png\" alt=\"Modellierungskreislauf\" width=\"600\" />"
   ]
  },
  {
   "cell_type": "markdown",
   "metadata": {},
   "source": [
    "### Reale Situation\n",
    ">COVID-19 (Abk. für englisch coronavirus disease 2019, deutsch Coronavirus-Krankheit-2019, umgangssprachlich auch Corona genannt) ist eine Infektionskrankheit, zu der es infolge einer Infektion mit dem neuartigen Coronavirus SARS-CoV-2 kommen kann. Die primär die Atemwege befallende Erkrankung wurde erstmals **Ende des Jahres 2019 in Wuhan** beschrieben, entwickelte sich im Januar 2020 in der Volksrepublik China zur Epidemie und breitete sich weltweit zur COVID-19-Pandemie aus <a src=\"https://de.wikipedia.org/w/index.php?title=COVID-19&oldid=203316599\" target=\"_blank\">[1]</a>.<br>\n",
    "\n",
    ">Die 2019 entdeckte Atemwegserkrankung COVID-19 breitet sich **in Deutschland seit dem 27. Januar 2020** aus. Seit dem **11. März 2020** wird diese weltweit ausgebrochene Lungenkrankheit von der WHO als **Pandemie bezeichnet** <a src=\"https://de.wikipedia.org/w/index.php?title=COVID-19-Pandemie_in_Deutschland&oldid=203315831\" target=\"_blank\">[2]</a>. <br>\n",
    "<br>\n",
    "\n"
   ]
  },
  {
   "cell_type": "markdown",
   "metadata": {},
   "source": [
    "### Reales Modell\n"
   ]
  },
  {
   "cell_type": "code",
   "execution_count": null,
   "metadata": {},
   "outputs": [],
   "source": [
    "GER = coronaData();\n",
    "\n",
    "figure(1);\n",
    "hold on;\n",
    "plot(GER(1,:),\"r*\");\n",
    "plot(GER(2,:),\"k*\");\n",
    "plot(GER(3,:),\"b*\");\n",
    "legend([\"Faelle\"; \"Verstorbene\"; \"Genesene\"], \"location\", \"northeastoutside\")\n",
    "hold off;\n",
    "\n",
    "%[SH,HH,NS,HB,NRW,HS,RLP,BW,BY,SL,BE,BR,MV,S,SA,TH,dates] = bundeslandCoronaData();\n",
    "%figure(2)\n",
    "%plot(RLP(2),\"*r\");"
   ]
  },
  {
   "cell_type": "markdown",
   "metadata": {},
   "source": [
    "### Mathematisches Modell\n"
   ]
  },
  {
   "cell_type": "markdown",
   "metadata": {},
   "source": [
    "### Mathematische Lösung"
   ]
  }
 ],
 "metadata": {
  "kernelspec": {
   "display_name": "Octave",
   "language": "octave",
   "name": "octave"
  },
  "language_info": {
   "file_extension": ".m",
   "help_links": [
    {
     "text": "GNU Octave",
     "url": "https://www.gnu.org/software/octave/support.html"
    },
    {
     "text": "Octave Kernel",
     "url": "https://github.com/Calysto/octave_kernel"
    },
    {
     "text": "MetaKernel Magics",
     "url": "https://metakernel.readthedocs.io/en/latest/source/README.html"
    }
   ],
   "mimetype": "text/x-octave",
   "name": "octave",
   "version": "5.2.0"
  }
 },
 "nbformat": 4,
 "nbformat_minor": 4
}
